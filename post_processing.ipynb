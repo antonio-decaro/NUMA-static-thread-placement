{
  "nbformat": 4,
  "nbformat_minor": 0,
  "metadata": {
    "colab": {
      "name": "HPC.ipynb",
      "provenance": [],
      "collapsed_sections": []
    },
    "kernelspec": {
      "name": "python3",
      "display_name": "Python 3"
    },
    "language_info": {
      "name": "python"
    }
  },
  "cells": [
    {
      "cell_type": "code",
      "source": [
        "file = 'LCALS_energy_calc'\n",
        "benchmarks = ['LCALS_vol3d_calc', 'LCALS_energy_calc', 'LCALS_pressure_calc']\n",
        "perf_file = \"_perf.csv\"\n",
        "papi_file = \"_papi.csv\"\n",
        "pintool_file = \"_pintool.csv\""
      ],
      "metadata": {
        "id": "qHYPsHkecueG"
      },
      "execution_count": null,
      "outputs": []
    },
    {
      "cell_type": "markdown",
      "source": [
        "# Hardware Counters\n",
        "\n",
        "## Metrics\n",
        "  - **LD_INSTANT**: Load instructions per cycles;\n",
        "  - **SR_INSTANT**: Store instructions per cycles;\n",
        "  - **L1_MISS_REL**: L1 cache missess per memory instruction (load or store);\n",
        "  - **LLC_MISS_REL**: Last Level Cache misses per memory instruction;\n",
        "  - **NODE_MISS_RELL**: Access to the remote momory node per instruction;\n"
      ],
      "metadata": {
        "id": "X5lwi44dbob5"
      }
    },
    {
      "cell_type": "code",
      "execution_count": null,
      "metadata": {
        "id": "geBNw7zsXatE"
      },
      "outputs": [],
      "source": [
        "import pandas as pd\n",
        "from pandas.io.formats.format import DataFrameRenderer\n",
        "\n",
        "def get_df(benchmark):\n",
        "  perf = pd.read_csv(benchmark + perf_file)\n",
        "  papi = pd.read_csv(benchmark + papi_file)\n",
        "\n",
        "  df = pd.DataFrame()\n",
        "\n",
        "  df['OMP_PLACES'], df['OMP_PROC_BIND'] = perf['OMP_PLACES'], perf['OMP_PROC_BIND']\n",
        "  df['millis'] = round(perf['nanoseconds'] / 1000000, 2)\n",
        "  df['MEM_INST'] = papi['PAPI_LD_INS'] + papi['PAPI_SR_INS'] \n",
        "  df['LD_INSTANT'] = papi['PAPI_LD_INS'] / perf['cycles']\n",
        "  df['SR_INSTANT'] = papi['PAPI_SR_INS'] / perf['cycles']\n",
        "\n",
        "  df['L1_MISS_REL'] = perf['L1-dcache-loads-misses'] / df['MEM_INST']\n",
        "  df['L2_MISS_REL'] = papi['PAPI_L2_DCM'] / df['MEM_INST']\n",
        "  df['LLC_MISS_REL'] = perf['LLC-load-misses'] / df['MEM_INST']\n",
        "\n",
        "  df['NODE_MISS_REL'] = (perf['node-loads-misses'] + perf['node-stores-misses']) / df['MEM_INST']\n",
        "  df['NODE_REL'] = (perf['node-loads'] + perf['node-stores']) / df['MEM_INST']\n",
        "\n",
        "  return df"
      ]
    },
    {
      "cell_type": "code",
      "source": [
        "from scipy.stats import hmean\n",
        "from statistics import mean\n",
        "means = {}\n",
        "\n",
        "events = ['millis', 'MEM_INST', 'LD_INSTANT', 'SR_INSTANT', 'L1_MISS_REL', 'L2_MISS_REL', 'LLC_MISS_REL', 'NODE_REL', 'NODE_MISS_REL']\n",
        "metrics = ['mean', 'median', 'std', 'var']\n",
        "\n",
        "\n",
        "for bench in benchmarks:\n",
        "  means[bench] = {}\n",
        "  for key, grp in get_df(bench).groupby([\"OMP_PLACES\", \"OMP_PROC_BIND\"]):\n",
        "    means[bench][key] = {}\n",
        "    grp = grp.reset_index()\n",
        "    means[bench][key]['millis'] = mean(grp['millis'])\n",
        "    means[bench][key]['MEM_INST'] = mean(grp['MEM_INST'])\n",
        "    for metric in events[2:]:\n",
        "      try:\n",
        "        means[bench][key][metric] = hmean(grp[metric])\n",
        "      except:\n",
        "        pass\n",
        "\n",
        "# pd.DataFrame(means).transpose().to_csv(f'{file}_HW_counters.csv')"
      ],
      "metadata": {
        "id": "gWFEGqbiFmJI"
      },
      "execution_count": null,
      "outputs": []
    },
    {
      "cell_type": "code",
      "source": [
        "from matplotlib import pyplot as plt\n",
        "import numpy as np\n",
        "\n",
        "plt.rcParams['figure.figsize'] = (10, 10)\n",
        "plt.rcParams['font.size'] = 14\n",
        "\n",
        "METRIC = \"NODE_MISS_REL\"\n",
        "\n",
        "names = []\n",
        "for bench in benchmarks:\n",
        "  for key in means[bench]:\n",
        "    if key == ('x', 'x'): \n",
        "      continue\n",
        "    names.append('\\n'.join(key))\n",
        "  break\n",
        "\n",
        "x = np.arange(len(names))\n",
        "width = 0.20\n",
        "for i, bench in enumerate(benchmarks):\n",
        "  values = []\n",
        "  for key in means[bench]:\n",
        "    if key == ('x', 'x'): \n",
        "      continue\n",
        "    values.append(means[bench][key][METRIC])\n",
        "  plt.bar(x + (i * width), values, width, label=bench)\n",
        "\n",
        "\n",
        "plt.xticks(x + 0.2, names)\n",
        "\n",
        "plt.xlabel(\"Configurations\")\n",
        "plt.ylabel(\"Time (ms)\")\n",
        "\n",
        "# plt.yscale('log')\n",
        "plt.legend()\n",
        "plt.tight_layout()\n",
        "plt.savefig(\"plot.pdf\",format=\"pdf\",bbox_inches=\"tight\")\n",
        "plt.show()\n"
      ],
      "metadata": {
        "colab": {
          "base_uri": "https://localhost:8080/",
          "height": 721
        },
        "id": "1CUW5ZDiW3R7",
        "outputId": "5784f213-823f-4695-f769-d11ea90f6ab2"
      },
      "execution_count": null,
      "outputs": [
        {
          "output_type": "display_data",
          "data": {
            "text/plain": [
              "<Figure size 720x720 with 1 Axes>"
            ],
            "image/png": "[encoded data removed]"
          },
          "metadata": {
            "needs_background": "light"
          }
        }
      ]
    },
    {
      "cell_type": "markdown",
      "source": [
        "# Software Counters\n"
      ],
      "metadata": {
        "id": "oxW6z_weg5ch"
      }
    },
    {
      "cell_type": "code",
      "source": [
        ""
      ],
      "metadata": {
        "id": "vew2udpyg_J2"
      },
      "execution_count": null,
      "outputs": []
    }
  ]
}